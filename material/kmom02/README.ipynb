{
 "cells": [
  {
   "cell_type": "markdown",
   "metadata": {},
   "source": [
    "# Kmom 02: Monte Carlo metoden och Centrala gränsvärdessatsen\n",
    "\n",
    "\n",
    "## Monte Carlo-metoden\n",
    "\n",
    "I detta kursmoment så kommer vi gå igenom hur man kan uppskatta integraler.\n",
    "\n",
    "Om $f(x)$ är en funktion som är icke-negativ på intervallet $[a,b]$ så kan vi beräkna arean $A$ av området mellan funktion och $x$-axeln med integralen\n",
    "\n",
    "\\begin{equation}\n",
    "A = \\int_a^b f(x) \\; dx = F(b) - F(a)\n",
    "\\end{equation}\n",
    "\n",
    "där $F(x)$ uppfyller $F'(x) = f(x)$.\n",
    "\n",
    "Dock så är det inte alltid möjligt att finna $F(x)$ så att vi kan beräkna integralen.\n",
    "\n",
    "Monte Carlo-metoden är en probabilistisk metod som uppskattar värdet på en integral. Låt $c$ vara det största funktionsvärdet av $f(x)$ på intervallet $[a,b]$. Då gäller det att"
   ]
  },
  {
   "cell_type": "code",
   "execution_count": null,
   "metadata": {
    "collapsed": true
   },
   "outputs": [],
   "source": []
  }
 ],
 "metadata": {
  "kernelspec": {
   "display_name": "Python 3",
   "language": "python",
   "name": "python3"
  },
  "language_info": {
   "codemirror_mode": {
    "name": "ipython",
    "version": 3
   },
   "file_extension": ".py",
   "mimetype": "text/x-python",
   "name": "python",
   "nbconvert_exporter": "python",
   "pygments_lexer": "ipython3",
   "version": "3.6.3"
  },
  "varInspector": {
   "cols": {
    "lenName": 16,
    "lenType": 16,
    "lenVar": 40
   },
   "kernels_config": {
    "python": {
     "delete_cmd_postfix": "",
     "delete_cmd_prefix": "del ",
     "library": "var_list.py",
     "varRefreshCmd": "print(var_dic_list())"
    },
    "r": {
     "delete_cmd_postfix": ") ",
     "delete_cmd_prefix": "rm(",
     "library": "var_list.r",
     "varRefreshCmd": "cat(var_dic_list()) "
    }
   },
   "types_to_exclude": [
    "module",
    "function",
    "builtin_function_or_method",
    "instance",
    "_Feature"
   ],
   "window_display": false
  }
 },
 "nbformat": 4,
 "nbformat_minor": 2
}
