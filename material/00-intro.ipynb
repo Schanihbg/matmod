{
 "cells": [
  {
   "cell_type": "markdown",
   "metadata": {
    "slideshow": {
     "slide_type": "slide"
    }
   },
   "source": [
    "# MA1487 Matematisk modellering ht 2018\n",
    "\n",
    "## Henrik Fredriksson\n",
    "\n",
    "\n",
    "- henrik.fredriksson@bth.se\n",
    "- https://github.com/henrikfredriksson\n",
    "- https://henrikfredriksson.gitbook.io/matmod\n",
    "- `hfn` i forumet\n",
    "- `henrikfredriksson` i Gitter"
   ]
  },
  {
   "cell_type": "markdown",
   "metadata": {
    "slideshow": {
     "slide_type": "slide"
    }
   },
   "source": [
    "# Om kursen\n",
    "\n",
    "\n",
    "## Syfte\n",
    "\n",
    "\n",
    "> Kursen avser att ge studenten förutsättningar att inhämta kunskaper i matematisk modellering. Utgångspunkten är att kunna tillämpa olika typer av matematiska metoder och modeller på problemställningar inom framför allt teknik- och naturvetenskaperna, såväl som inom mer tvärvetenskapliga ämnen. Kursen skall även bidra till förståelsen av diskret matematik, statistik, optimering och den matematiska modelleringens betydelse vad det gäller förbättringspotentialer inom de olika tillämpningsområdena.\n",
    "\n",
    "## Innehåll\n",
    "\n",
    "> Introduktion till ämnesområdet och hur matematisk modellering kan bidra till problemlösning inom olika områden. Genomgång och exemplifiering av ett antal olika typer av matematiska metoder och modeller. Tillämpning och utveckling av modeller på praktiska problem hämtade från olika områden.\n",
    "\n",
    "\n",
    "## Mer konkret\n",
    "\n",
    "\n",
    "> - Diskret Matematik\n",
    "> - Statistik\n",
    "> - Sannolikhetsteori"
   ]
  },
  {
   "cell_type": "markdown",
   "metadata": {
    "slideshow": {
     "slide_type": "slide"
    }
   },
   "source": [
    "# Upplägg\n",
    "\n",
    "## Föreläsningar\n",
    "\n",
    "- En föreläsning per vecka (undantag vecka 45 och 46 då föreläsning sker även onsdagar 15-17)\n",
    "\n",
    "\n",
    "## Programmeringsstuga\n",
    "\n",
    "- Torsdagar 9-12, 13-16\n",
    "\n",
    "\n",
    "## Kursmoment\n",
    "\n",
    "- Inlämningsuppgifter (5 stycken)\n",
    "- Projekt\n",
    "\n"
   ]
  }
 ],
 "metadata": {
  "kernelspec": {
   "display_name": "Python 3",
   "language": "python",
   "name": "python3"
  },
  "language_info": {
   "codemirror_mode": {
    "name": "ipython",
    "version": 3
   },
   "file_extension": ".py",
   "mimetype": "text/x-python",
   "name": "python",
   "nbconvert_exporter": "python",
   "pygments_lexer": "ipython3",
   "version": "3.7.1"
  },
  "varInspector": {
   "cols": {
    "lenName": 16,
    "lenType": 16,
    "lenVar": 40
   },
   "kernels_config": {
    "python": {
     "delete_cmd_postfix": "",
     "delete_cmd_prefix": "del ",
     "library": "var_list.py",
     "varRefreshCmd": "print(var_dic_list())"
    },
    "r": {
     "delete_cmd_postfix": ") ",
     "delete_cmd_prefix": "rm(",
     "library": "var_list.r",
     "varRefreshCmd": "cat(var_dic_list()) "
    }
   },
   "types_to_exclude": [
    "module",
    "function",
    "builtin_function_or_method",
    "instance",
    "_Feature"
   ],
   "window_display": false
  }
 },
 "nbformat": 4,
 "nbformat_minor": 1
}
