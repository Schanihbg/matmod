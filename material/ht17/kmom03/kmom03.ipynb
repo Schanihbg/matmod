{
 "cells": [
  {
   "cell_type": "markdown",
   "metadata": {},
   "source": [
    "# Kmom03 MA1477 Matmod\n",
    "\n",
    "\n",
    "# Uppgift 1: Konfidensintervall\n",
    "\n",
    "När man beräknar medelvärden av en stor datamängd utifrån *stickprov* så beror medelvärdet såklart på vilken data som ingår i stickprovet. Ett sätt tackla detta problem är att ange ett intervall som innehåller det sökta medelvärdet, med en viss sannolikhet. Några (påhittade) exempel\n",
    "\n",
    "1. Livslängden för en viss bil ligger mellan 12 och 15 år med sannolikheten 0.95\n",
    "2. Antalet studenter som söker till BTH per är mellan 1500 och 2000 med sannolikhet 0.8\n",
    "3. Henrik sover mellan 5 och 6 timmar per natt med sannolikhet 0.95\n",
    "\n",
    "Intervallen i exemplen ovan kallas *konfidensintervall* och är ett mått på den osäkerhet slumpen bidrar med när vi försöker skatta den bakomliggande populationens medelvärde.\n",
    "\n",
    "Från Kmom02 känner vi till att det gäller att om man adderar ett stort antal oberoende slumpmässiga variabler så kommer summan gå mot en normalfördelning (centrala gränsvärdessatsen). Vi utgår därför från en normalfördelad variabel med väntevärdet $\\mu$ och standardavvikelsen $\\sigma$.\n",
    "\n",
    "För ett stickprov med $n$ observationer så gäller det att stickprovets medelvärde\n",
    "$$\n",
    "\\bar{X} = \\frac{1}{n}\\sum x_i\n",
    "$$\n",
    "är normalfördelat med väntevärde $\\mu$ och standardavvikelse $\\sigma/\\sqrt{n}$. \n",
    "\n",
    "Då gäller det att \n",
    "$$\n",
    "\\Pr\\left( \\bar{X} -1.96 \\cdot \\frac{\\sigma}{\\sqrt{n}} < \\mu <  \\bar{X}  +1.96 \\cdot \\frac{\\sigma}{\\sqrt{n}} \\right) = 0.95\n",
    "$$\n",
    "och \n",
    "$$\n",
    "\\Pr\\left( \\bar{X} -2.58 \\cdot \\frac{\\sigma}{\\sqrt{n}} < \\mu <  \\bar{X}  +2.58 \\cdot \\frac{\\sigma}{\\sqrt{n}} \\right) = 0.99\n",
    "$$\n",
    "dvs väntevärdet $\\mu$ ligger i intervallet \n",
    "\n",
    "$$\n",
    "\\left(\\bar{X} -1.96 \\cdot \\frac{\\sigma}{\\sqrt{n}}, \\bar{X} +1.96 \\cdot \\frac{\\sigma}{\\sqrt{n}} \\right)\\text{ med sannolikheten 95%}\n",
    "$$\n",
    "och\n",
    "$$\n",
    "\\left(\\bar{X} -2.58 \\cdot \\frac{\\sigma}{\\sqrt{n}}, \\bar{X} +2.58 \\cdot \\frac{\\sigma}{\\sqrt{n}} \\right) \\text{ med sannolikheten 99%}\n",
    "$$\n",
    "\n",
    "\n",
    "\n",
    "I detta kursmoment ska vi beräkna konfidensintervall för responstiden för `ping`-tider. Kommandot `ping` används t.ex. för att undersöka ifall en värddator är åtkomligt via nätverket och för att mäta hur lång tid det tar att skicka datapaket till värdatorn.\n",
    "\n",
    "Följande `python`-kod pingar adressen `www.bth.se` 20 gånger. Sist i ouputen finns `time` ger anger tiden för hur lång tid det tar att skicka ett datapaket till de angivna värddatorn.\n"
   ]
  },
  {
   "cell_type": "code",
   "execution_count": 1,
   "metadata": {},
   "outputs": [
    {
     "name": "stdout",
     "output_type": "stream",
     "text": [
      "PING www.bth.se (213.52.129.125): 56 data bytes\n",
      "64 bytes from 213.52.129.125: icmp_seq=0 ttl=50 time=24.820 ms\n",
      "64 bytes from 213.52.129.125: icmp_seq=1 ttl=50 time=25.572 ms\n",
      "64 bytes from 213.52.129.125: icmp_seq=2 ttl=50 time=25.517 ms\n",
      "64 bytes from 213.52.129.125: icmp_seq=3 ttl=50 time=25.631 ms\n",
      "64 bytes from 213.52.129.125: icmp_seq=4 ttl=50 time=26.411 ms\n",
      "64 bytes from 213.52.129.125: icmp_seq=5 ttl=50 time=25.493 ms\n",
      "64 bytes from 213.52.129.125: icmp_seq=6 ttl=50 time=26.559 ms\n",
      "64 bytes from 213.52.129.125: icmp_seq=7 ttl=50 time=24.767 ms\n",
      "64 bytes from 213.52.129.125: icmp_seq=8 ttl=50 time=25.627 ms\n",
      "64 bytes from 213.52.129.125: icmp_seq=9 ttl=50 time=25.891 ms\n",
      "64 bytes from 213.52.129.125: icmp_seq=10 ttl=50 time=24.829 ms\n",
      "64 bytes from 213.52.129.125: icmp_seq=11 ttl=50 time=26.439 ms\n",
      "64 bytes from 213.52.129.125: icmp_seq=12 ttl=50 time=25.546 ms\n",
      "64 bytes from 213.52.129.125: icmp_seq=13 ttl=50 time=25.615 ms\n",
      "64 bytes from 213.52.129.125: icmp_seq=14 ttl=50 time=24.927 ms\n",
      "64 bytes from 213.52.129.125: icmp_seq=15 ttl=50 time=25.641 ms\n",
      "64 bytes from 213.52.129.125: icmp_seq=16 ttl=50 time=25.600 ms\n",
      "64 bytes from 213.52.129.125: icmp_seq=17 ttl=50 time=25.799 ms\n",
      "64 bytes from 213.52.129.125: icmp_seq=18 ttl=50 time=25.502 ms\n",
      "64 bytes from 213.52.129.125: icmp_seq=19 ttl=50 time=24.988 ms\n",
      "\n",
      "--- www.bth.se ping statistics ---\n",
      "20 packets transmitted, 20 packets received, 0.0% packet loss\n",
      "round-trip min/avg/max/stddev = 24.767/25.559/26.559/0.507 ms\n",
      "\n"
     ]
    }
   ],
   "source": [
    "import subprocess\n",
    "hostname = \"www.bth.se\"\n",
    "\n",
    "response = subprocess.check_output(\n",
    "        ['ping', '-c', '20', hostname],\n",
    "        stderr=subprocess.STDOUT,  # get all output\n",
    "        universal_newlines=True  # return string not bytes\n",
    "    )\n",
    "\n",
    "print(response)"
   ]
  },
  {
   "cell_type": "markdown",
   "metadata": {},
   "source": [
    "## Uppgifter\n",
    "\n",
    "Ni ska skapa en sida i valfritt språk där följande ska ingå.\n",
    "\n",
    "1. Välj en sida som ni ska pinga.\n",
    "2. Beräkna och presentera konfidensintervallen för 95% respektive 99% för olika värden på $n > 30$.\n",
    "3. Då $n$ ökar så blir konfidensintevallet mindre. Vad är väntevärdet $\\mu$ för pingtiden för den sida ni valt att pinga?\n",
    "\n",
    "## Extrauppgifter om sidan kan köras dynamiskt\n",
    "1. Låt användaren mata in sida som hen vill pinga.\n",
    "2. Låt användaren mata in förväntad ping tid och beräkna konfidensintervall och se ifall värdet befinner sig inom konfidensintervallet.\n",
    "\n",
    "Se **Exempel 1, sid 163** i Statistisk datanalys för att beräkna konfidensintervallen när man känner till $\\sigma$, $n$ och $\\bar{X}$."
   ]
  },
  {
   "cell_type": "markdown",
   "metadata": {},
   "source": [
    "# Uppgift 2: Pearsons korrelationskoefficient\n",
    "\n",
    "I denna uppgift ska vi studera hur två variabler $X,Y$ är korrelerade, dvs om det finns något samband mellan $X$ och $Y$. Exempel\n",
    "\n",
    "- Är antalet studieår korrelerat med lön?\n",
    "- Finns det något samband mellan antal rökta cigaretter och lungcancer?\n",
    "\n",
    "Talet \n",
    "$$\n",
    "\\rho = \\dfrac{\\sum (x_i - \\bar{x})(y_i - \\bar{y})}{ \\sqrt{\\sum (x_i - \\bar{x})^2 \\sum (y_i -\\bar{y})^2 }}\n",
    "$$\n",
    "\n",
    "kallas *Pearsons korrelationskoefficient* och beskriver sambandet mellan $X$ och $Y$.\n",
    "Man kan visa att $-1 \\leq \\rho \\leq 1$. För $\\rho$ gäller följande\n",
    "\n",
    "- Positiv korrelation: $\\rho > 0$ (samverkande faktorer)\n",
    "- Negativ korrelation: $\\rho < 0$ (motverkande faktorer)\n",
    "- Okorrelerat samband: $\\rho = 0$\n",
    "\n",
    "I exemplet nedan hur kan visualisera två variabler $x,y$ i en `scatterplot`. Här svara `x[i]`mot `y[i]`. Exempel är att datan motsvarar att man ha frågat 8 personer hur många år de haft sitt jobb och vad de har i lön."
   ]
  },
  {
   "cell_type": "code",
   "execution_count": 66,
   "metadata": {},
   "outputs": [
    {
     "data": {
      "image/png": "[encoded data removed]",
      "text/plain": [
       "<matplotlib.figure.Figure at 0x1a1f418898>"
      ]
     },
     "metadata": {},
     "output_type": "display_data"
    }
   ],
   "source": [
    "import matplotlib.pyplot as plt\n",
    "\n",
    "x = [1,1,2,2,3,3,4,5]\n",
    "y = [10000,11000,12000,11000,11000,10000,12000,16000]\n",
    "\n",
    "plt.scatter(x,y)\n",
    "plt.grid(True)\n",
    "plt.show()"
   ]
  },
  {
   "cell_type": "markdown",
   "metadata": {},
   "source": [
    "## Uppgifter\n",
    "\n",
    "\n",
    "1. Hitta en studie, datamängd eller liknande involverande två variabler som ni vill analysera korrelationen för.\n",
    "2. Gör en scatterplot över datan.\n",
    "3. Beräkna Peasons korrelationskoefficient och avgör ifall variablerna har något samband."
   ]
  },
  {
   "cell_type": "code",
   "execution_count": null,
   "metadata": {
    "collapsed": true
   },
   "outputs": [],
   "source": []
  }
 ],
 "metadata": {
  "kernelspec": {
   "display_name": "Python 3",
   "language": "python",
   "name": "python3"
  },
  "language_info": {
   "codemirror_mode": {
    "name": "ipython",
    "version": 3
   },
   "file_extension": ".py",
   "mimetype": "text/x-python",
   "name": "python",
   "nbconvert_exporter": "python",
   "pygments_lexer": "ipython3",
   "version": "3.6.3"
  },
  "varInspector": {
   "cols": {
    "lenName": 16,
    "lenType": 16,
    "lenVar": 40
   },
   "kernels_config": {
    "python": {
     "delete_cmd_postfix": "",
     "delete_cmd_prefix": "del ",
     "library": "var_list.py",
     "varRefreshCmd": "print(var_dic_list())"
    },
    "r": {
     "delete_cmd_postfix": ") ",
     "delete_cmd_prefix": "rm(",
     "library": "var_list.r",
     "varRefreshCmd": "cat(var_dic_list()) "
    }
   },
   "types_to_exclude": [
    "module",
    "function",
    "builtin_function_or_method",
    "instance",
    "_Feature"
   ],
   "window_display": false
  }
 },
 "nbformat": 4,
 "nbformat_minor": 2
}
